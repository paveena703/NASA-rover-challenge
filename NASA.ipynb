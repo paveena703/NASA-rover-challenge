{
  "nbformat": 4,
  "nbformat_minor": 0,
  "metadata": {
    "colab": {
      "provenance": [],
      "authorship_tag": "ABX9TyMMHWEBeLmJx6pmIAqSWubR",
      "include_colab_link": true
    },
    "kernelspec": {
      "name": "python3",
      "display_name": "Python 3"
    },
    "language_info": {
      "name": "python"
    }
  },
  "cells": [
    {
      "cell_type": "markdown",
      "metadata": {
        "id": "view-in-github",
        "colab_type": "text"
      },
      "source": [
        "<a href=\"https://colab.research.google.com/github/paveena703/NASA-rover-challenge/blob/main/NASA.ipynb\" target=\"_parent\"><img src=\"https://colab.research.google.com/assets/colab-badge.svg\" alt=\"Open In Colab\"/></a>"
      ]
    },
    {
      "cell_type": "code",
      "source": [
        "#Project no 1 NASA rover Challenge\n",
        "x=3\n",
        "y=3\n",
        "direction = \"east\"\n",
        "def turnLeft():\n",
        "  print(\"turning left\")\n",
        "  global direction\n",
        "  if direction == \"north\":\n",
        "    direction = \"west\"\n",
        "  elif direction == \"west\":\n",
        "    direction = \"south\"\n",
        "  elif direction == \"south\":\n",
        "    direction = \"east\"\n",
        "  elif direction == \"east\":\n",
        "    direction = \"north\"\n",
        "def turnRight():\n",
        "   print(\"turning right\")\n",
        "   global direction\n",
        "   if direction == \"north\":\n",
        "    direction = \"east\"\n",
        "   elif direction == \"east\":\n",
        "    direction = \"south\"\n",
        "   elif direction == \"south\":\n",
        "    direction = \"west\"\n",
        "   elif direction == \"west\":\n",
        "    direction = \"north\"\n",
        "def moveForward():\n",
        "  print(\"moving forward\")\n",
        "  global x,y\n",
        "  if direction == \"north\":\n",
        "    y = y + 1\n",
        "  elif direction == \"east\":\n",
        "    x = x + 1\n",
        "  elif direction == \"south\":\n",
        "    y = y - 1\n",
        "  elif direction == \"west\":\n",
        "    x = x - 1\n",
        "commands = [\"M\",\"M\",\"R\",\"M\",\"M\",\"R\",\"M\",\"R\",\"R\",\"M\"]\n",
        "for c in commands:\n",
        "  print(c)\n",
        "  if c == \"L\":\n",
        "    turnLeft()\n",
        "  elif c == \"R\":\n",
        "    turnRight()\n",
        "  elif c == \"M\":\n",
        "    moveForward()\n",
        "print(x)\n",
        "print(y)\n",
        "print(direction)"
      ],
      "metadata": {
        "colab": {
          "base_uri": "https://localhost:8080/"
        },
        "id": "RP79jkVebJiP",
        "outputId": "df145ffb-c899-40f6-c523-d76cbb1981ed"
      },
      "execution_count": 1,
      "outputs": [
        {
          "output_type": "stream",
          "name": "stdout",
          "text": [
            "M\n",
            "moving forward\n",
            "M\n",
            "moving forward\n",
            "R\n",
            "turning right\n",
            "M\n",
            "moving forward\n",
            "M\n",
            "moving forward\n",
            "R\n",
            "turning right\n",
            "M\n",
            "moving forward\n",
            "R\n",
            "turning right\n",
            "R\n",
            "turning right\n",
            "M\n",
            "moving forward\n",
            "5\n",
            "1\n",
            "east\n"
          ]
        }
      ]
    },
    {
      "cell_type": "code",
      "source": [
        "#Project no 2 NASA rover Challenge with grid\n",
        "x=4\n",
        "y=5\n",
        "direction = \"east\"\n",
        "gridx = 5\n",
        "gridy = 5\n",
        "def turnLeft():\n",
        "  print(\"turning left\")\n",
        "  global direction\n",
        "  if direction == \"north\":\n",
        "    direction = \"west\"\n",
        "  elif direction == \"west\":\n",
        "    direction = \"south\"\n",
        "  elif direction == \"south\":\n",
        "    direction = \"east\"\n",
        "  elif direction == \"east\":\n",
        "    direction = \"north\"\n",
        "def turnRight():\n",
        "   print(\"turning right\")\n",
        "   global direction\n",
        "   if direction == \"north\":\n",
        "    direction = \"east\"\n",
        "   elif direction == \"east\":\n",
        "    direction = \"south\"\n",
        "   elif direction == \"south\":\n",
        "    direction = \"west\"\n",
        "   elif direction == \"west\":\n",
        "    direction = \"north\"\n",
        "def moveForward():\n",
        "  print(\"moving forward\")\n",
        "  global x,y,direction, gridx,gridy\n",
        "  if direction == \"north\":\n",
        "    if y < gridy :\n",
        "     y = y + 1\n",
        "  elif direction == \"east\":\n",
        "    if x < gridx:\n",
        "     x = x + 1\n",
        "  elif direction == \"south\":\n",
        "    if y > 0:\n",
        "      y = y - 1\n",
        "  elif direction == \"west\":\n",
        "    if x > 0:\n",
        "     x = x - 1\n",
        "commands = [\"M\",\"M\",\"R\",\"M\",\"M\",\"R\"]\n",
        "for c in commands:\n",
        "  print(c)\n",
        "  if c == \"L\":\n",
        "    turnLeft()\n",
        "  elif c == \"R\":\n",
        "    turnRight()\n",
        "  elif c == \"M\":\n",
        "    moveForward()\n",
        "print(x)\n",
        "print(y)\n",
        "print(direction)"
      ],
      "metadata": {
        "colab": {
          "base_uri": "https://localhost:8080/"
        },
        "id": "w-XdHTiDcxAG",
        "outputId": "28ca0ef9-87de-4be0-db23-65da7e20e5df"
      },
      "execution_count": 2,
      "outputs": [
        {
          "output_type": "stream",
          "name": "stdout",
          "text": [
            "M\n",
            "moving forward\n",
            "M\n",
            "moving forward\n",
            "R\n",
            "turning right\n",
            "M\n",
            "moving forward\n",
            "M\n",
            "moving forward\n",
            "R\n",
            "turning right\n",
            "5\n",
            "3\n",
            "west\n"
          ]
        }
      ]
    },
    {
      "cell_type": "code",
      "source": [
        "#Project no 1 NASA 2 rover Challenge\n",
        "x1=3\n",
        "y1=3\n",
        "direction1 = \"east\"\n",
        "x2=1\n",
        "y2=2\n",
        "direction2 =\"north\"\n",
        "def turnLeft(rover1,rover2):\n",
        "  print(\"turning left\")\n",
        "  global direction\n",
        "  if direction == \"north\":\n",
        "    direction = \"west\"\n",
        "  elif direction == \"west\":\n",
        "    direction = \"south\"\n",
        "  elif direction == \"south\":\n",
        "    direction = \"east\"\n",
        "  elif direction == \"east\":\n",
        "    direction = \"north\"\n",
        "def turnRight(rover1,rover2):\n",
        "   print(\"turning right\")\n",
        "   global direction\n",
        "   if direction == \"north\":\n",
        "    direction = \"east\"\n",
        "   elif direction == \"east\":\n",
        "    direction = \"south\"\n",
        "   elif direction == \"south\":\n",
        "    direction = \"west\"\n",
        "   elif direction == \"west\":\n",
        "    direction = \"north\"\n",
        "def moveForward(rover1,rover2):\n",
        "  print(\"moving forward\")\n",
        "  global x,y\n",
        "  if direction == \"north\":\n",
        "    y = y + 1\n",
        "  elif direction == \"east\":\n",
        "    x = x + 1\n",
        "  elif direction == \"south\":\n",
        "    y = y - 1\n",
        "  elif direction == \"west\":\n",
        "    x = x - 1\n",
        "commands1 = [\"M\",\"M\",\"R\",\"M\",\"M\",\"R\",\"M\",\"R\",\"R\",\"M\"]\n",
        "commands2 =[\"L\",\"M\",\"L\",\"M\",\"L\",\"M\",\"L\",\"M\",\"M\"]\n",
        "for c in commands1,commands2 :\n",
        "  print(c)\n",
        "  if c == \"L\":\n",
        "    turnLeft()\n",
        "  elif c == \"R\":\n",
        "    turnRight()\n",
        "  elif c == \"M\":\n",
        "    moveForward()\n",
        "print(x1)\n",
        "print(y1)\n",
        "print(direction1)\n",
        "print(x2)\n",
        "print(y2)\n",
        "print(direction2)\n"
      ],
      "metadata": {
        "colab": {
          "base_uri": "https://localhost:8080/"
        },
        "id": "LqUHUTTYc848",
        "outputId": "26b4327a-d137-4c3f-fdc3-b4c539ba21b4"
      },
      "execution_count": 3,
      "outputs": [
        {
          "output_type": "stream",
          "name": "stdout",
          "text": [
            "['M', 'M', 'R', 'M', 'M', 'R', 'M', 'R', 'R', 'M']\n",
            "['L', 'M', 'L', 'M', 'L', 'M', 'L', 'M', 'M']\n",
            "3\n",
            "3\n",
            "east\n",
            "1\n",
            "2\n",
            "north\n"
          ]
        }
      ]
    }
  ]
}